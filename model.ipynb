{
 "cells": [
  {
   "attachments": {},
   "cell_type": "markdown",
   "id": "9b611ff4",
   "metadata": {
    "papermill": {
     "duration": 0.026857,
     "end_time": "2023-06-04T08:14:08.077649",
     "exception": false,
     "start_time": "2023-06-04T08:14:08.050792",
     "status": "completed"
    },
    "tags": []
   },
   "source": [
    "<font color='cadetblue'>Validation is provided for easy integrations in your meta-models.</font>"
   ]
  },
  {
   "attachments": {},
   "cell_type": "markdown",
   "id": "fe77627e",
   "metadata": {
    "_cell_guid": "42773ec4-ae6b-4da7-8784-b2c92829fa05",
    "_uuid": "ad23f044-7e1c-4099-b00e-7664777c3f8e",
    "papermill": {
     "duration": 0.020363,
     "end_time": "2023-06-04T08:14:08.114682",
     "exception": false,
     "start_time": "2023-06-04T08:14:08.094319",
     "status": "completed"
    },
    "tags": []
   },
   "source": [
    "# <p style=\"font-size:28px; background-color:cadetblue; text-align:center; vertical-align: middle; padding:20px 0;\">Imports</p>"
   ]
  },
  {
   "cell_type": "code",
   "execution_count": 1,
   "id": "a45ab94c",
   "metadata": {
    "_cell_guid": "e1b63cb6-f265-4f97-a413-d5aecc6b0f67",
    "_kg_hide-input": false,
    "_uuid": "50f218f1-48bd-404c-8a3b-8eae2bef55f2",
    "collapsed": false,
    "execution": {
     "iopub.execute_input": "2023-06-04T08:14:08.154632Z",
     "iopub.status.busy": "2023-06-04T08:14:08.154127Z",
     "iopub.status.idle": "2023-06-04T08:14:09.888013Z",
     "shell.execute_reply": "2023-06-04T08:14:09.887120Z"
    },
    "jupyter": {
     "outputs_hidden": false
    },
    "papermill": {
     "duration": 1.754205,
     "end_time": "2023-06-04T08:14:09.890589",
     "exception": false,
     "start_time": "2023-06-04T08:14:08.136384",
     "status": "completed"
    },
    "tags": []
   },
   "outputs": [],
   "source": [
    "from pathlib import Path\n",
    "\n",
    "import numpy as np\n",
    "import pandas as pd\n",
    "pd.set_option('display.max_rows', 400)\n",
    "pd.set_option('display.max_columns', None)\n",
    "\n",
    "from sklearn.preprocessing import OneHotEncoder\n",
    "\n",
    "import matplotlib.pyplot as plt\n",
    "import matplotlib.colors as plt_colors\n",
    "\n",
    "from sklearn.metrics import mean_absolute_error\n",
    "from sklearn.model_selection import GridSearchCV\n",
    "\n",
    "from sklearn.linear_model import LinearRegression\n",
    "from sklearn.linear_model import Lasso\n",
    "from sklearn.linear_model import Ridge\n",
    "from sklearn.neighbors import KNeighborsRegressor"
   ]
  },
  {
   "attachments": {},
   "cell_type": "markdown",
   "id": "d36ac94c",
   "metadata": {
    "_cell_guid": "1726ab46-f1f2-4c4b-a72f-8a12054a5f46",
    "_uuid": "a8392ddb-f2ab-4ce0-a20c-cc0c679ebfc0",
    "papermill": {
     "duration": 0.011455,
     "end_time": "2023-06-04T08:14:09.914112",
     "exception": false,
     "start_time": "2023-06-04T08:14:09.902657",
     "status": "completed"
    },
    "tags": []
   },
   "source": [
    "# <p style=\"font-size:28px; background-color:cadetblue; text-align:center; vertical-align: middle; padding:20px 0;\">Data Loading</p>"
   ]
  },
  {
   "cell_type": "code",
   "execution_count": 2,
   "id": "f1328c9e",
   "metadata": {
    "_cell_guid": "26fc5a2b-c5eb-4819-bf70-9f1e65567037",
    "_uuid": "7e96cbf0-9586-4579-aa18-dad162cbc769",
    "collapsed": false,
    "execution": {
     "iopub.execute_input": "2023-06-04T08:14:09.939379Z",
     "iopub.status.busy": "2023-06-04T08:14:09.939066Z",
     "iopub.status.idle": "2023-06-04T08:14:10.189076Z",
     "shell.execute_reply": "2023-06-04T08:14:10.188116Z"
    },
    "jupyter": {
     "outputs_hidden": false
    },
    "papermill": {
     "duration": 0.265379,
     "end_time": "2023-06-04T08:14:10.191458",
     "exception": false,
     "start_time": "2023-06-04T08:14:09.926079",
     "status": "completed"
    },
    "tags": []
   },
   "outputs": [],
   "source": [
    "data_dir = Path(\"C:/Users/ys726/Desktop/Crab_Age_Dataset\")\n",
    "train = pd.read_csv(\"C:/Users/ys726/Desktop/Crab_Age_Dataset/train/train.csv\")\n",
    "test = pd.read_csv(\"C:/Users/ys726/Desktop/Crab_Age_Dataset/test/test.csv\")\n",
    "\n",
    "submission = pd.read_csv(data_dir/'sample_submission.csv')\n",
    "\n",
    "target = 'Age'"
   ]
  },
  {
   "attachments": {},
   "cell_type": "markdown",
   "id": "7d904ff5",
   "metadata": {
    "_cell_guid": "ace82e7c-bd73-493e-94d3-8a916940ef25",
    "_uuid": "7a547956-c530-4bfb-b540-374a7937922a",
    "papermill": {
     "duration": 0.01159,
     "end_time": "2023-06-04T08:14:10.215512",
     "exception": false,
     "start_time": "2023-06-04T08:14:10.203922",
     "status": "completed"
    },
    "tags": []
   },
   "source": [
    "# <p style=\"font-size:28px; background-color:cadetblue; text-align:center; vertical-align: middle; padding:20px 0;\">Exploratory Data Analysis</p>"
   ]
  },
  {
   "attachments": {},
   "cell_type": "markdown",
   "id": "c1f88a5e",
   "metadata": {
    "_cell_guid": "40319dc1-de1d-4d3f-b5b7-861996fc5b77",
    "_uuid": "ad4025c3-d28e-4120-9378-5e8ddc2c4443",
    "papermill": {
     "duration": 0.011355,
     "end_time": "2023-06-04T08:14:10.238783",
     "exception": false,
     "start_time": "2023-06-04T08:14:10.227428",
     "status": "completed"
    },
    "tags": []
   },
   "source": [
    "## First glance"
   ]
  },
  {
   "cell_type": "code",
   "execution_count": 3,
   "id": "8617f8be",
   "metadata": {
    "_cell_guid": "3c77001a-55e2-4c99-8904-aea2f79e4174",
    "_uuid": "58be3dcd-2c16-454c-81b9-37b6a8a5ab5d",
    "collapsed": false,
    "execution": {
     "iopub.execute_input": "2023-06-04T08:14:10.264569Z",
     "iopub.status.busy": "2023-06-04T08:14:10.263601Z",
     "iopub.status.idle": "2023-06-04T08:14:10.286333Z",
     "shell.execute_reply": "2023-06-04T08:14:10.285483Z"
    },
    "jupyter": {
     "outputs_hidden": false
    },
    "papermill": {
     "duration": 0.037685,
     "end_time": "2023-06-04T08:14:10.288331",
     "exception": false,
     "start_time": "2023-06-04T08:14:10.250646",
     "status": "completed"
    },
    "tags": []
   },
   "outputs": [
    {
     "data": {
      "text/html": [
       "<div>\n",
       "<style scoped>\n",
       "    .dataframe tbody tr th:only-of-type {\n",
       "        vertical-align: middle;\n",
       "    }\n",
       "\n",
       "    .dataframe tbody tr th {\n",
       "        vertical-align: top;\n",
       "    }\n",
       "\n",
       "    .dataframe thead th {\n",
       "        text-align: right;\n",
       "    }\n",
       "</style>\n",
       "<table border=\"1\" class=\"dataframe\">\n",
       "  <thead>\n",
       "    <tr style=\"text-align: right;\">\n",
       "      <th></th>\n",
       "      <th>id</th>\n",
       "      <th>Sex</th>\n",
       "      <th>Length</th>\n",
       "      <th>Diameter</th>\n",
       "      <th>Height</th>\n",
       "      <th>Weight</th>\n",
       "      <th>Shucked Weight</th>\n",
       "      <th>Viscera Weight</th>\n",
       "      <th>Shell Weight</th>\n",
       "      <th>Age</th>\n",
       "    </tr>\n",
       "  </thead>\n",
       "  <tbody>\n",
       "    <tr>\n",
       "      <th>0</th>\n",
       "      <td>0</td>\n",
       "      <td>I</td>\n",
       "      <td>1.5250</td>\n",
       "      <td>1.1750</td>\n",
       "      <td>0.3750</td>\n",
       "      <td>28.973189</td>\n",
       "      <td>12.728926</td>\n",
       "      <td>6.647958</td>\n",
       "      <td>8.348928</td>\n",
       "      <td>9</td>\n",
       "    </tr>\n",
       "    <tr>\n",
       "      <th>1</th>\n",
       "      <td>1</td>\n",
       "      <td>I</td>\n",
       "      <td>1.1000</td>\n",
       "      <td>0.8250</td>\n",
       "      <td>0.2750</td>\n",
       "      <td>10.418441</td>\n",
       "      <td>4.521745</td>\n",
       "      <td>2.324659</td>\n",
       "      <td>3.401940</td>\n",
       "      <td>8</td>\n",
       "    </tr>\n",
       "    <tr>\n",
       "      <th>2</th>\n",
       "      <td>2</td>\n",
       "      <td>M</td>\n",
       "      <td>1.3875</td>\n",
       "      <td>1.1125</td>\n",
       "      <td>0.3750</td>\n",
       "      <td>24.777463</td>\n",
       "      <td>11.339800</td>\n",
       "      <td>5.556502</td>\n",
       "      <td>6.662133</td>\n",
       "      <td>9</td>\n",
       "    </tr>\n",
       "    <tr>\n",
       "      <th>3</th>\n",
       "      <td>3</td>\n",
       "      <td>F</td>\n",
       "      <td>1.7000</td>\n",
       "      <td>1.4125</td>\n",
       "      <td>0.5000</td>\n",
       "      <td>50.660556</td>\n",
       "      <td>20.354941</td>\n",
       "      <td>10.991839</td>\n",
       "      <td>14.996885</td>\n",
       "      <td>11</td>\n",
       "    </tr>\n",
       "    <tr>\n",
       "      <th>4</th>\n",
       "      <td>4</td>\n",
       "      <td>I</td>\n",
       "      <td>1.2500</td>\n",
       "      <td>1.0125</td>\n",
       "      <td>0.3375</td>\n",
       "      <td>23.289114</td>\n",
       "      <td>11.977664</td>\n",
       "      <td>4.507570</td>\n",
       "      <td>5.953395</td>\n",
       "      <td>8</td>\n",
       "    </tr>\n",
       "  </tbody>\n",
       "</table>\n",
       "</div>"
      ],
      "text/plain": [
       "   id Sex  Length  Diameter  Height     Weight  Shucked Weight  \\\n",
       "0   0   I  1.5250    1.1750  0.3750  28.973189       12.728926   \n",
       "1   1   I  1.1000    0.8250  0.2750  10.418441        4.521745   \n",
       "2   2   M  1.3875    1.1125  0.3750  24.777463       11.339800   \n",
       "3   3   F  1.7000    1.4125  0.5000  50.660556       20.354941   \n",
       "4   4   I  1.2500    1.0125  0.3375  23.289114       11.977664   \n",
       "\n",
       "   Viscera Weight  Shell Weight  Age  \n",
       "0        6.647958      8.348928    9  \n",
       "1        2.324659      3.401940    8  \n",
       "2        5.556502      6.662133    9  \n",
       "3       10.991839     14.996885   11  \n",
       "4        4.507570      5.953395    8  "
      ]
     },
     "metadata": {},
     "output_type": "display_data"
    }
   ],
   "source": [
    "display(train.head())\n",
    "features = train.columns.drop([target, 'id']).to_list()"
   ]
  },
  {
   "attachments": {},
   "cell_type": "markdown",
   "id": "b1efd0ad",
   "metadata": {
    "papermill": {
     "duration": 0.012952,
     "end_time": "2023-06-04T08:14:10.313810",
     "exception": false,
     "start_time": "2023-06-04T08:14:10.300858",
     "status": "completed"
    },
    "tags": []
   },
   "source": [
    "## Shapes"
   ]
  },
  {
   "cell_type": "code",
   "execution_count": 4,
   "id": "7e9bd189",
   "metadata": {
    "_cell_guid": "63f236b5-1da4-49b0-a4ad-dc9724cb9aa4",
    "_uuid": "295fb7fb-f2a3-4369-b5be-d3906e7bc779",
    "collapsed": false,
    "execution": {
     "iopub.execute_input": "2023-06-04T08:14:10.338965Z",
     "iopub.status.busy": "2023-06-04T08:14:10.338647Z",
     "iopub.status.idle": "2023-06-04T08:14:10.343755Z",
     "shell.execute_reply": "2023-06-04T08:14:10.342875Z"
    },
    "jupyter": {
     "outputs_hidden": false
    },
    "papermill": {
     "duration": 0.020251,
     "end_time": "2023-06-04T08:14:10.346097",
     "exception": false,
     "start_time": "2023-06-04T08:14:10.325846",
     "status": "completed"
    },
    "tags": []
   },
   "outputs": [
    {
     "name": "stdout",
     "output_type": "stream",
     "text": [
      "Train's shape: (74051, 10)\n",
      "Test's shape: (49368, 9)\n"
     ]
    }
   ],
   "source": [
    "print(f'Train\\'s shape: {train.shape}')\n",
    "print(f'Test\\'s shape: {test.shape}')"
   ]
  },
  {
   "attachments": {},
   "cell_type": "markdown",
   "id": "f9a2a28c",
   "metadata": {
    "_cell_guid": "f02f7c5f-e721-4d60-97a9-f338a87c07ee",
    "_uuid": "2c97c04f-60da-444a-9c45-a56027a66f5c",
    "papermill": {
     "duration": 0.012534,
     "end_time": "2023-06-04T08:14:10.370517",
     "exception": false,
     "start_time": "2023-06-04T08:14:10.357983",
     "status": "completed"
    },
    "tags": []
   },
   "source": [
    "## Target"
   ]
  },
  {
   "cell_type": "code",
   "execution_count": 5,
   "id": "1fe6dc6f",
   "metadata": {
    "_cell_guid": "c5f5894d-4eb9-44a9-a718-80550e15d3d1",
    "_uuid": "af356673-35d5-4815-8328-44d7000dd962",
    "collapsed": false,
    "execution": {
     "iopub.execute_input": "2023-06-04T08:14:10.421360Z",
     "iopub.status.busy": "2023-06-04T08:14:10.421074Z",
     "iopub.status.idle": "2023-06-04T08:14:10.427596Z",
     "shell.execute_reply": "2023-06-04T08:14:10.426360Z"
    },
    "jupyter": {
     "outputs_hidden": false
    },
    "papermill": {
     "duration": 0.021635,
     "end_time": "2023-06-04T08:14:10.429802",
     "exception": false,
     "start_time": "2023-06-04T08:14:10.408167",
     "status": "completed"
    },
    "tags": []
   },
   "outputs": [
    {
     "name": "stdout",
     "output_type": "stream",
     "text": [
      "Age's type: int64\n",
      "Interval: [1, 29]\n"
     ]
    }
   ],
   "source": [
    "print(f'{target}\\'s type: {train[target].dtype}')\n",
    "print(f'Interval: [{np.min(train[target])}, {np.max(train[target])}]')"
   ]
  },
  {
   "attachments": {},
   "cell_type": "markdown",
   "id": "f6c302f3",
   "metadata": {
    "_cell_guid": "578dd344-c1c8-4e19-a93f-a8e4728e8815",
    "_uuid": "8f21002b-35f4-4d3f-af3e-9067fb822488",
    "papermill": {
     "duration": 0.012192,
     "end_time": "2023-06-04T08:14:10.394873",
     "exception": false,
     "start_time": "2023-06-04T08:14:10.382681",
     "status": "completed"
    },
    "tags": []
   },
   "source": [
    "The target column is of type Integer between 1 and 29."
   ]
  },
  {
   "attachments": {},
   "cell_type": "markdown",
   "id": "dbbb18c8",
   "metadata": {
    "_cell_guid": "61bafc08-b7bc-4739-850a-ff0eb9a997d6",
    "_uuid": "9799a191-4a63-4880-bd38-184cf1487004",
    "papermill": {
     "duration": 0.011745,
     "end_time": "2023-06-04T08:14:10.454835",
     "exception": false,
     "start_time": "2023-06-04T08:14:10.443090",
     "status": "completed"
    },
    "tags": []
   },
   "source": [
    "### Target's boxplot and histogram"
   ]
  },
  {
   "cell_type": "code",
   "execution_count": 6,
   "id": "2c94937b",
   "metadata": {
    "_cell_guid": "fe0d0b3d-8d0b-4837-839a-1930dd8ef695",
    "_kg_hide-input": true,
    "_uuid": "e0637f4d-fd1f-47ee-a996-0aedb3bc5464",
    "collapsed": false,
    "execution": {
     "iopub.execute_input": "2023-06-04T08:14:10.480884Z",
     "iopub.status.busy": "2023-06-04T08:14:10.480171Z",
     "iopub.status.idle": "2023-06-04T08:14:10.792363Z",
     "shell.execute_reply": "2023-06-04T08:14:10.791453Z"
    },
    "jupyter": {
     "outputs_hidden": false
    },
    "papermill": {
     "duration": 0.327507,
     "end_time": "2023-06-04T08:14:10.794445",
     "exception": false,
     "start_time": "2023-06-04T08:14:10.466938",
     "status": "completed"
    },
    "tags": []
   },
   "outputs": [
    {
     "data": {
      "image/png": "[encoded data removed]",
      "text/plain": [
       "<Figure size 800x400 with 2 Axes>"
      ]
     },
     "metadata": {},
     "output_type": "display_data"
    }
   ],
   "source": [
    "fig, [top, bottom] = plt.subplots(2, 1, figsize=(8,4))\n",
    "plt.subplots_adjust(hspace=0)\n",
    "\n",
    "flierprops = dict(marker='o', markerfacecolor='cadetblue', markeredgecolor='darkslategray', markersize=6)\n",
    "top.boxplot(x=train[target], flierprops=flierprops, vert=False)\n",
    "top.spines.bottom.set_visible(False)\n",
    "top.set_xticks([])\n",
    "top.set_yticks([])\n",
    "\n",
    "bottom.hist(x=train[target], color='cadetblue',edgecolor='darkslategray', bins=29)\n",
    "bottom.spines.top.set_visible(False)\n",
    "plt.show()"
   ]
  },
  {
   "attachments": {},
   "cell_type": "markdown",
   "id": "10c8228b",
   "metadata": {
    "_cell_guid": "e7289e59-fef3-4e07-9a4f-d55c72291573",
    "_uuid": "5872815e-2e77-4999-aaaf-8929040b2470",
    "papermill": {
     "duration": 0.012347,
     "end_time": "2023-06-04T08:14:10.819768",
     "exception": false,
     "start_time": "2023-06-04T08:14:10.807421",
     "status": "completed"
    },
    "tags": []
   },
   "source": [
    "## Feature Info"
   ]
  },
  {
   "cell_type": "code",
   "execution_count": 7,
   "id": "43523339",
   "metadata": {},
   "outputs": [
    {
     "name": "stdout",
     "output_type": "stream",
     "text": [
      "<class 'pandas.core.frame.DataFrame'>\n",
      "RangeIndex: 74051 entries, 0 to 74050\n",
      "Data columns (total 8 columns):\n",
      " #   Column          Non-Null Count  Dtype  \n",
      "---  ------          --------------  -----  \n",
      " 0   Sex             74051 non-null  object \n",
      " 1   Length          74051 non-null  float64\n",
      " 2   Diameter        74051 non-null  float64\n",
      " 3   Height          74051 non-null  float64\n",
      " 4   Weight          74051 non-null  float64\n",
      " 5   Shucked Weight  74051 non-null  float64\n",
      " 6   Viscera Weight  74051 non-null  float64\n",
      " 7   Shell Weight    74051 non-null  float64\n",
      "dtypes: float64(7), object(1)\n",
      "memory usage: 4.5+ MB\n"
     ]
    }
   ],
   "source": [
    "train[features].info()\n",
    "categorical_features = ['Sex']\n",
    "numerical_features = ['Length', 'Diameter', 'Height', 'Weight', 'Shucked Weight', 'Viscera Weight', 'Shell Weight']"
   ]
  },
  {
   "attachments": {},
   "cell_type": "markdown",
   "id": "91f19f20",
   "metadata": {
    "_cell_guid": "3970da16-6ec3-4dff-9714-0693e53a7d45",
    "_uuid": "31c85d62-dfcb-46c6-b26f-80e38d10492f",
    "papermill": {
     "duration": 0.012231,
     "end_time": "2023-06-04T08:14:10.911208",
     "exception": false,
     "start_time": "2023-06-04T08:14:10.898977",
     "status": "completed"
    },
    "tags": []
   },
   "source": [
    "No NAs in this dataset."
   ]
  },
  {
   "attachments": {},
   "cell_type": "markdown",
   "id": "ad2f7d5a",
   "metadata": {
    "_cell_guid": "eaa0cf05-4027-4cbb-8a46-3e9d6d23cf89",
    "_uuid": "49df426d-14c9-40d7-b29b-1cde1f0101c6",
    "papermill": {
     "duration": 0.012353,
     "end_time": "2023-06-04T08:14:11.010398",
     "exception": false,
     "start_time": "2023-06-04T08:14:10.998045",
     "status": "completed"
    },
    "tags": []
   },
   "source": [
    "## Categorical feature (Sex)"
   ]
  },
  {
   "cell_type": "code",
   "execution_count": 8,
   "id": "3f0f5230",
   "metadata": {
    "_cell_guid": "a29b00b4-56be-46d8-856a-6da42794f734",
    "_kg_hide-input": true,
    "_uuid": "12278afe-4fdb-46b7-ae44-94013932c42b",
    "collapsed": false,
    "execution": {
     "iopub.execute_input": "2023-06-04T08:14:11.036874Z",
     "iopub.status.busy": "2023-06-04T08:14:11.036125Z",
     "iopub.status.idle": "2023-06-04T08:14:11.373434Z",
     "shell.execute_reply": "2023-06-04T08:14:11.372585Z"
    },
    "jupyter": {
     "outputs_hidden": false
    },
    "papermill": {
     "duration": 0.353929,
     "end_time": "2023-06-04T08:14:11.376859",
     "exception": false,
     "start_time": "2023-06-04T08:14:11.022930",
     "status": "completed"
    },
    "tags": []
   },
   "outputs": [
    {
     "data": {
      "image/png": "[encoded data removed]",
      "text/plain": [
       "<Figure size 600x400 with 2 Axes>"
      ]
     },
     "metadata": {},
     "output_type": "display_data"
    }
   ],
   "source": [
    "fig, axes = plt.subplots(1, 2, figsize=(6,4))\n",
    "\n",
    "for ax, df, label in zip(axes, [train, test], ['train', 'test']):\n",
    "    data = df['Sex'].value_counts(normalize=True)\n",
    "    n_classes = df['Sex'].nunique()\n",
    "\n",
    "    colors = []\n",
    "    for alpha in np.arange(n_classes, 0, -1)/n_classes:\n",
    "        colors.append(plt_colors.to_rgba('cadetblue', alpha=alpha))\n",
    "\n",
    "    ax.pie(data, labels=data.index, autopct='%.2f%%', colors=colors, startangle=90, wedgeprops={'edgecolor':'darkslategray','linewidth': 1})\n",
    "    ax.set_title(f'Sex ({label})', y=-.05)\n",
    "\n",
    "\n",
    "fig.tight_layout()\n",
    "fig.suptitle('Sex values distribution', fontsize=12)\n",
    "plt.show()"
   ]
  },
  {
   "attachments": {},
   "cell_type": "markdown",
   "id": "563f7762",
   "metadata": {
    "_cell_guid": "0f8c3726-93e0-4670-a348-fffc212e01cc",
    "_uuid": "8f309114-ef7f-4f1d-bbde-cbb6f3ccdbfb",
    "papermill": {
     "duration": 0.014719,
     "end_time": "2023-06-04T08:14:11.422899",
     "exception": false,
     "start_time": "2023-06-04T08:14:11.408180",
     "status": "completed"
    },
    "tags": []
   },
   "source": [
    "## Spread of 'Age' per 'Sex' groups"
   ]
  },
  {
   "cell_type": "code",
   "execution_count": 9,
   "id": "b38d1d28",
   "metadata": {
    "_kg_hide-input": true,
    "execution": {
     "iopub.execute_input": "2023-06-04T08:14:11.450503Z",
     "iopub.status.busy": "2023-06-04T08:14:11.450238Z",
     "iopub.status.idle": "2023-06-04T08:14:12.384582Z",
     "shell.execute_reply": "2023-06-04T08:14:12.383636Z"
    },
    "papermill": {
     "duration": 0.951516,
     "end_time": "2023-06-04T08:14:12.387454",
     "exception": false,
     "start_time": "2023-06-04T08:14:11.435938",
     "status": "completed"
    },
    "tags": []
   },
   "outputs": [
    {
     "data": {
      "image/png": "[encoded data removed]",
      "text/plain": [
       "<Figure size 600x300 with 2 Axes>"
      ]
     },
     "metadata": {},
     "output_type": "display_data"
    },
    {
     "data": {
      "image/png": "[encoded data removed]",
      "text/plain": [
       "<Figure size 600x300 with 2 Axes>"
      ]
     },
     "metadata": {},
     "output_type": "display_data"
    },
    {
     "data": {
      "image/png": "[encoded data removed]",
      "text/plain": [
       "<Figure size 600x300 with 2 Axes>"
      ]
     },
     "metadata": {},
     "output_type": "display_data"
    }
   ],
   "source": [
    "for name, group in train.groupby(by='Sex')[target]:\n",
    "\n",
    "    fig, [top, bottom] = plt.subplots(2, 1, figsize=(6,3))\n",
    "    plt.subplots_adjust(hspace=0)\n",
    "    \n",
    "    \n",
    "    top.boxplot(x=group, flierprops=flierprops, vert=False)\n",
    "    \n",
    "    top.spines.bottom.set_visible(False)\n",
    "    top.set_xticks([])\n",
    "    top.set_yticks([])\n",
    "\n",
    "    bottom.hist(x=group, color='cadetblue',edgecolor='darkslategray', bins=group.nunique())\n",
    "    bottom.spines.top.set_visible(False)\n",
    "    bottom.set_title(f'Sex: {name}', y=-.5)\n",
    "\n",
    "    plt.show()\n",
    "    "
   ]
  },
  {
   "attachments": {},
   "cell_type": "markdown",
   "id": "f640c281",
   "metadata": {
    "_cell_guid": "66e417bd-1d33-4ab1-a1ba-78c8b35a65fc",
    "_uuid": "4eeb58b5-d768-448c-809f-5c57dd0454f3",
    "papermill": {
     "duration": 0.01479,
     "end_time": "2023-06-04T08:14:12.417520",
     "exception": false,
     "start_time": "2023-06-04T08:14:12.402730",
     "status": "completed"
    },
    "tags": []
   },
   "source": [
    "## Numerical features boxplots"
   ]
  },
  {
   "attachments": {},
   "cell_type": "markdown",
   "id": "874e1972",
   "metadata": {
    "_cell_guid": "96de2465-66c0-4eac-b198-282401885c92",
    "_uuid": "f3c484be-eca0-462a-b739-4d89eb1c32c9",
    "papermill": {
     "duration": 0.013827,
     "end_time": "2023-06-04T08:14:12.445642",
     "exception": false,
     "start_time": "2023-06-04T08:14:12.431815",
     "status": "completed"
    },
    "tags": []
   },
   "source": [
    "Check out 'Length' for annotations"
   ]
  },
  {
   "cell_type": "code",
   "execution_count": 10,
   "id": "aa855d3b",
   "metadata": {
    "_cell_guid": "0f33a171-f797-4538-8ac8-68a6e66fb3b5",
    "_kg_hide-input": true,
    "_uuid": "b8263d25-c437-4cb6-9e8f-fc9b106a382f",
    "collapsed": false,
    "execution": {
     "iopub.execute_input": "2023-06-04T08:14:12.474816Z",
     "iopub.status.busy": "2023-06-04T08:14:12.474457Z",
     "iopub.status.idle": "2023-06-04T08:14:13.186338Z",
     "shell.execute_reply": "2023-06-04T08:14:13.185438Z"
    },
    "jupyter": {
     "outputs_hidden": false
    },
    "papermill": {
     "duration": 0.729261,
     "end_time": "2023-06-04T08:14:13.188571",
     "exception": false,
     "start_time": "2023-06-04T08:14:12.459310",
     "status": "completed"
    },
    "tags": []
   },
   "outputs": [
    {
     "data": {
      "image/png": "[encoded data removed]",
      "text/plain": [
       "<Figure size 1400x800 with 6 Axes>"
      ]
     },
     "metadata": {},
     "output_type": "display_data"
    }
   ],
   "source": [
    "fig, axes = plt.subplots(3, 2, figsize=(14,8))\n",
    "plt.subplots_adjust(hspace=0.4)\n",
    "\n",
    "\n",
    "for ax, numerical_feature in zip(axes.reshape(-1), numerical_features):\n",
    "    ax.boxplot(x=train[numerical_feature], flierprops=flierprops, vert=False)\n",
    "    ax.set_title(numerical_feature, y=-.3)\n",
    "    ax.set_yticks([])\n",
    "\n",
    "# Annotate the first boxplots for better interpretation\n",
    "axes[0, 0].text(.3, 1.1, 'Outliers', bbox=dict(facecolor='cadetblue', alpha=0.5), fontsize=7)\n",
    "axes[0, 0].text(1.07, .75, '   25th\\nPercentile', fontsize=7)\n",
    "axes[0, 0].text(1.3, 1.1, 'Median', fontsize=7)\n",
    "axes[0, 0].text(1.45, .75, '   75th\\nPercentile', fontsize=7)\n",
    "\n",
    "fig.suptitle('Numerical features boxplots (Train)', fontsize=12)\n",
    "plt.show()"
   ]
  },
  {
   "attachments": {},
   "cell_type": "markdown",
   "id": "d820aee8",
   "metadata": {
    "_cell_guid": "da6f6eb7-ca2d-4e8c-b799-8a756c6661b5",
    "_uuid": "8003f572-dbfe-452c-89a2-47e388b992f7",
    "papermill": {
     "duration": 0.015246,
     "end_time": "2023-06-04T08:14:13.219089",
     "exception": false,
     "start_time": "2023-06-04T08:14:13.203843",
     "status": "completed"
    },
    "tags": []
   },
   "source": [
    "## Feature corrolations"
   ]
  },
  {
   "cell_type": "code",
   "execution_count": 11,
   "id": "b38561e7",
   "metadata": {
    "_cell_guid": "e0b6ab41-12fd-494f-be07-f752142bf2b0",
    "_kg_hide-input": true,
    "_uuid": "24dcf7c0-a25f-48fb-b1f6-10a8a6865c5f",
    "collapsed": false,
    "execution": {
     "iopub.execute_input": "2023-06-04T08:14:13.249858Z",
     "iopub.status.busy": "2023-06-04T08:14:13.249547Z",
     "iopub.status.idle": "2023-06-04T08:14:13.350396Z",
     "shell.execute_reply": "2023-06-04T08:14:13.349216Z"
    },
    "jupyter": {
     "outputs_hidden": false
    },
    "papermill": {
     "duration": 0.119447,
     "end_time": "2023-06-04T08:14:13.353129",
     "exception": false,
     "start_time": "2023-06-04T08:14:13.233682",
     "status": "completed"
    },
    "tags": []
   },
   "outputs": [
    {
     "data": {
      "text/html": [
       "<style type=\"text/css\">\n",
       "#T_94e45_row0_col0, #T_94e45_row1_col1, #T_94e45_row2_col2, #T_94e45_row3_col3, #T_94e45_row4_col4, #T_94e45_row5_col5, #T_94e45_row6_col6, #T_94e45_row7_col7 {\n",
       "  background-color: #014636;\n",
       "  color: #f1f1f1;\n",
       "}\n",
       "#T_94e45_row0_col1 {\n",
       "  background-color: #014e3e;\n",
       "  color: #f1f1f1;\n",
       "}\n",
       "#T_94e45_row0_col2, #T_94e45_row4_col1 {\n",
       "  background-color: #027d80;\n",
       "  color: #f1f1f1;\n",
       "}\n",
       "#T_94e45_row0_col3 {\n",
       "  background-color: #017165;\n",
       "  color: #f1f1f1;\n",
       "}\n",
       "#T_94e45_row0_col4 {\n",
       "  background-color: #01736a;\n",
       "  color: #f1f1f1;\n",
       "}\n",
       "#T_94e45_row0_col5, #T_94e45_row1_col5 {\n",
       "  background-color: #027773;\n",
       "  color: #f1f1f1;\n",
       "}\n",
       "#T_94e45_row0_col6, #T_94e45_row2_col3 {\n",
       "  background-color: #028189;\n",
       "  color: #f1f1f1;\n",
       "}\n",
       "#T_94e45_row0_col7 {\n",
       "  background-color: #d7d5e8;\n",
       "  color: #000000;\n",
       "}\n",
       "#T_94e45_row1_col0 {\n",
       "  background-color: #014d3d;\n",
       "  color: #f1f1f1;\n",
       "}\n",
       "#T_94e45_row1_col2, #T_94e45_row4_col0, #T_94e45_row5_col1 {\n",
       "  background-color: #027b7d;\n",
       "  color: #f1f1f1;\n",
       "}\n",
       "#T_94e45_row1_col3, #T_94e45_row6_col5 {\n",
       "  background-color: #017164;\n",
       "  color: #f1f1f1;\n",
       "}\n",
       "#T_94e45_row1_col4 {\n",
       "  background-color: #01746c;\n",
       "  color: #f1f1f1;\n",
       "}\n",
       "#T_94e45_row1_col6 {\n",
       "  background-color: #027d81;\n",
       "  color: #f1f1f1;\n",
       "}\n",
       "#T_94e45_row1_col7 {\n",
       "  background-color: #d3d3e7;\n",
       "  color: #000000;\n",
       "}\n",
       "#T_94e45_row2_col0, #T_94e45_row2_col1 {\n",
       "  background-color: #027a79;\n",
       "  color: #f1f1f1;\n",
       "}\n",
       "#T_94e45_row2_col4, #T_94e45_row2_col5 {\n",
       "  background-color: #0c8495;\n",
       "  color: #f1f1f1;\n",
       "}\n",
       "#T_94e45_row2_col6 {\n",
       "  background-color: #11859a;\n",
       "  color: #f1f1f1;\n",
       "}\n",
       "#T_94e45_row2_col7 {\n",
       "  background-color: #c9cee4;\n",
       "  color: #000000;\n",
       "}\n",
       "#T_94e45_row3_col0 {\n",
       "  background-color: #017369;\n",
       "  color: #f1f1f1;\n",
       "}\n",
       "#T_94e45_row3_col1 {\n",
       "  background-color: #017267;\n",
       "  color: #f1f1f1;\n",
       "}\n",
       "#T_94e45_row3_col2 {\n",
       "  background-color: #0b8393;\n",
       "  color: #f1f1f1;\n",
       "}\n",
       "#T_94e45_row3_col4 {\n",
       "  background-color: #015745;\n",
       "  color: #f1f1f1;\n",
       "}\n",
       "#T_94e45_row3_col5 {\n",
       "  background-color: #015a49;\n",
       "  color: #f1f1f1;\n",
       "}\n",
       "#T_94e45_row3_col6 {\n",
       "  background-color: #016553;\n",
       "  color: #f1f1f1;\n",
       "}\n",
       "#T_94e45_row3_col7 {\n",
       "  background-color: #dcd8ea;\n",
       "  color: #000000;\n",
       "}\n",
       "#T_94e45_row4_col2 {\n",
       "  background-color: #3790c0;\n",
       "  color: #f1f1f1;\n",
       "}\n",
       "#T_94e45_row4_col3, #T_94e45_row5_col3 {\n",
       "  background-color: #015b4a;\n",
       "  color: #f1f1f1;\n",
       "}\n",
       "#T_94e45_row4_col5 {\n",
       "  background-color: #016d5c;\n",
       "  color: #f1f1f1;\n",
       "}\n",
       "#T_94e45_row4_col6, #T_94e45_row6_col2 {\n",
       "  background-color: #098391;\n",
       "  color: #f1f1f1;\n",
       "}\n",
       "#T_94e45_row4_col7, #T_94e45_row7_col0, #T_94e45_row7_col1, #T_94e45_row7_col2, #T_94e45_row7_col3, #T_94e45_row7_col4, #T_94e45_row7_col5, #T_94e45_row7_col6 {\n",
       "  background-color: #fff7fb;\n",
       "  color: #000000;\n",
       "}\n",
       "#T_94e45_row5_col0, #T_94e45_row6_col0 {\n",
       "  background-color: #027b7b;\n",
       "  color: #f1f1f1;\n",
       "}\n",
       "#T_94e45_row5_col2 {\n",
       "  background-color: #208aa9;\n",
       "  color: #f1f1f1;\n",
       "}\n",
       "#T_94e45_row5_col4 {\n",
       "  background-color: #016956;\n",
       "  color: #f1f1f1;\n",
       "}\n",
       "#T_94e45_row5_col6 {\n",
       "  background-color: #027875;\n",
       "  color: #f1f1f1;\n",
       "}\n",
       "#T_94e45_row5_col7 {\n",
       "  background-color: #e7dfee;\n",
       "  color: #000000;\n",
       "}\n",
       "#T_94e45_row6_col1 {\n",
       "  background-color: #027978;\n",
       "  color: #f1f1f1;\n",
       "}\n",
       "#T_94e45_row6_col3 {\n",
       "  background-color: #01604e;\n",
       "  color: #f1f1f1;\n",
       "}\n",
       "#T_94e45_row6_col4 {\n",
       "  background-color: #01756f;\n",
       "  color: #f1f1f1;\n",
       "}\n",
       "#T_94e45_row6_col7 {\n",
       "  background-color: #b8c6e0;\n",
       "  color: #000000;\n",
       "}\n",
       "</style>\n",
       "<table id=\"T_94e45\">\n",
       "  <thead>\n",
       "    <tr>\n",
       "      <th class=\"blank level0\" >&nbsp;</th>\n",
       "      <th id=\"T_94e45_level0_col0\" class=\"col_heading level0 col0\" >Length</th>\n",
       "      <th id=\"T_94e45_level0_col1\" class=\"col_heading level0 col1\" >Diameter</th>\n",
       "      <th id=\"T_94e45_level0_col2\" class=\"col_heading level0 col2\" >Height</th>\n",
       "      <th id=\"T_94e45_level0_col3\" class=\"col_heading level0 col3\" >Weight</th>\n",
       "      <th id=\"T_94e45_level0_col4\" class=\"col_heading level0 col4\" >Shucked Weight</th>\n",
       "      <th id=\"T_94e45_level0_col5\" class=\"col_heading level0 col5\" >Viscera Weight</th>\n",
       "      <th id=\"T_94e45_level0_col6\" class=\"col_heading level0 col6\" >Shell Weight</th>\n",
       "      <th id=\"T_94e45_level0_col7\" class=\"col_heading level0 col7\" >Age</th>\n",
       "    </tr>\n",
       "  </thead>\n",
       "  <tbody>\n",
       "    <tr>\n",
       "      <th id=\"T_94e45_level0_row0\" class=\"row_heading level0 row0\" >Length</th>\n",
       "      <td id=\"T_94e45_row0_col0\" class=\"data row0 col0\" >1.000</td>\n",
       "      <td id=\"T_94e45_row0_col1\" class=\"data row0 col1\" >0.989</td>\n",
       "      <td id=\"T_94e45_row0_col2\" class=\"data row0 col2\" >0.918</td>\n",
       "      <td id=\"T_94e45_row0_col3\" class=\"data row0 col3\" >0.936</td>\n",
       "      <td id=\"T_94e45_row0_col4\" class=\"data row0 col4\" >0.916</td>\n",
       "      <td id=\"T_94e45_row0_col5\" class=\"data row0 col5\" >0.918</td>\n",
       "      <td id=\"T_94e45_row0_col6\" class=\"data row0 col6\" >0.917</td>\n",
       "      <td id=\"T_94e45_row0_col7\" class=\"data row0 col7\" >0.613</td>\n",
       "    </tr>\n",
       "    <tr>\n",
       "      <th id=\"T_94e45_level0_row1\" class=\"row_heading level0 row1\" >Diameter</th>\n",
       "      <td id=\"T_94e45_row1_col0\" class=\"data row1 col0\" >0.989</td>\n",
       "      <td id=\"T_94e45_row1_col1\" class=\"data row1 col1\" >1.000</td>\n",
       "      <td id=\"T_94e45_row1_col2\" class=\"data row1 col2\" >0.921</td>\n",
       "      <td id=\"T_94e45_row1_col3\" class=\"data row1 col3\" >0.938</td>\n",
       "      <td id=\"T_94e45_row1_col4\" class=\"data row1 col4\" >0.914</td>\n",
       "      <td id=\"T_94e45_row1_col5\" class=\"data row1 col5\" >0.918</td>\n",
       "      <td id=\"T_94e45_row1_col6\" class=\"data row1 col6\" >0.923</td>\n",
       "      <td id=\"T_94e45_row1_col7\" class=\"data row1 col7\" >0.621</td>\n",
       "    </tr>\n",
       "    <tr>\n",
       "      <th id=\"T_94e45_level0_row2\" class=\"row_heading level0 row2\" >Height</th>\n",
       "      <td id=\"T_94e45_row2_col0\" class=\"data row2 col0\" >0.918</td>\n",
       "      <td id=\"T_94e45_row2_col1\" class=\"data row2 col1\" >0.921</td>\n",
       "      <td id=\"T_94e45_row2_col2\" class=\"data row2 col2\" >1.000</td>\n",
       "      <td id=\"T_94e45_row2_col3\" class=\"data row2 col3\" >0.902</td>\n",
       "      <td id=\"T_94e45_row2_col4\" class=\"data row2 col4\" >0.864</td>\n",
       "      <td id=\"T_94e45_row2_col5\" class=\"data row2 col5\" >0.883</td>\n",
       "      <td id=\"T_94e45_row2_col6\" class=\"data row2 col6\" >0.903</td>\n",
       "      <td id=\"T_94e45_row2_col7\" class=\"data row2 col7\" >0.638</td>\n",
       "    </tr>\n",
       "    <tr>\n",
       "      <th id=\"T_94e45_level0_row3\" class=\"row_heading level0 row3\" >Weight</th>\n",
       "      <td id=\"T_94e45_row3_col0\" class=\"data row3 col0\" >0.936</td>\n",
       "      <td id=\"T_94e45_row3_col1\" class=\"data row3 col1\" >0.938</td>\n",
       "      <td id=\"T_94e45_row3_col2\" class=\"data row3 col2\" >0.902</td>\n",
       "      <td id=\"T_94e45_row3_col3\" class=\"data row3 col3\" >1.000</td>\n",
       "      <td id=\"T_94e45_row3_col4\" class=\"data row3 col4\" >0.971</td>\n",
       "      <td id=\"T_94e45_row3_col5\" class=\"data row3 col5\" >0.971</td>\n",
       "      <td id=\"T_94e45_row3_col6\" class=\"data row3 col6\" >0.966</td>\n",
       "      <td id=\"T_94e45_row3_col7\" class=\"data row3 col7\" >0.601</td>\n",
       "    </tr>\n",
       "    <tr>\n",
       "      <th id=\"T_94e45_level0_row4\" class=\"row_heading level0 row4\" >Shucked Weight</th>\n",
       "      <td id=\"T_94e45_row4_col0\" class=\"data row4 col0\" >0.916</td>\n",
       "      <td id=\"T_94e45_row4_col1\" class=\"data row4 col1\" >0.914</td>\n",
       "      <td id=\"T_94e45_row4_col2\" class=\"data row4 col2\" >0.864</td>\n",
       "      <td id=\"T_94e45_row4_col3\" class=\"data row4 col3\" >0.971</td>\n",
       "      <td id=\"T_94e45_row4_col4\" class=\"data row4 col4\" >1.000</td>\n",
       "      <td id=\"T_94e45_row4_col5\" class=\"data row4 col5\" >0.943</td>\n",
       "      <td id=\"T_94e45_row4_col6\" class=\"data row4 col6\" >0.910</td>\n",
       "      <td id=\"T_94e45_row4_col7\" class=\"data row4 col7\" >0.503</td>\n",
       "    </tr>\n",
       "    <tr>\n",
       "      <th id=\"T_94e45_level0_row5\" class=\"row_heading level0 row5\" >Viscera Weight</th>\n",
       "      <td id=\"T_94e45_row5_col0\" class=\"data row5 col0\" >0.918</td>\n",
       "      <td id=\"T_94e45_row5_col1\" class=\"data row5 col1\" >0.918</td>\n",
       "      <td id=\"T_94e45_row5_col2\" class=\"data row5 col2\" >0.883</td>\n",
       "      <td id=\"T_94e45_row5_col3\" class=\"data row5 col3\" >0.971</td>\n",
       "      <td id=\"T_94e45_row5_col4\" class=\"data row5 col4\" >0.943</td>\n",
       "      <td id=\"T_94e45_row5_col5\" class=\"data row5 col5\" >1.000</td>\n",
       "      <td id=\"T_94e45_row5_col6\" class=\"data row5 col6\" >0.934</td>\n",
       "      <td id=\"T_94e45_row5_col7\" class=\"data row5 col7\" >0.577</td>\n",
       "    </tr>\n",
       "    <tr>\n",
       "      <th id=\"T_94e45_level0_row6\" class=\"row_heading level0 row6\" >Shell Weight</th>\n",
       "      <td id=\"T_94e45_row6_col0\" class=\"data row6 col0\" >0.917</td>\n",
       "      <td id=\"T_94e45_row6_col1\" class=\"data row6 col1\" >0.923</td>\n",
       "      <td id=\"T_94e45_row6_col2\" class=\"data row6 col2\" >0.903</td>\n",
       "      <td id=\"T_94e45_row6_col3\" class=\"data row6 col3\" >0.966</td>\n",
       "      <td id=\"T_94e45_row6_col4\" class=\"data row6 col4\" >0.910</td>\n",
       "      <td id=\"T_94e45_row6_col5\" class=\"data row6 col5\" >0.934</td>\n",
       "      <td id=\"T_94e45_row6_col6\" class=\"data row6 col6\" >1.000</td>\n",
       "      <td id=\"T_94e45_row6_col7\" class=\"data row6 col7\" >0.663</td>\n",
       "    </tr>\n",
       "    <tr>\n",
       "      <th id=\"T_94e45_level0_row7\" class=\"row_heading level0 row7\" >Age</th>\n",
       "      <td id=\"T_94e45_row7_col0\" class=\"data row7 col0\" >0.613</td>\n",
       "      <td id=\"T_94e45_row7_col1\" class=\"data row7 col1\" >0.621</td>\n",
       "      <td id=\"T_94e45_row7_col2\" class=\"data row7 col2\" >0.638</td>\n",
       "      <td id=\"T_94e45_row7_col3\" class=\"data row7 col3\" >0.601</td>\n",
       "      <td id=\"T_94e45_row7_col4\" class=\"data row7 col4\" >0.503</td>\n",
       "      <td id=\"T_94e45_row7_col5\" class=\"data row7 col5\" >0.577</td>\n",
       "      <td id=\"T_94e45_row7_col6\" class=\"data row7 col6\" >0.663</td>\n",
       "      <td id=\"T_94e45_row7_col7\" class=\"data row7 col7\" >1.000</td>\n",
       "    </tr>\n",
       "  </tbody>\n",
       "</table>\n"
      ],
      "text/plain": [
       "<pandas.io.formats.style.Styler at 0x145048c8e50>"
      ]
     },
     "execution_count": 11,
     "metadata": {},
     "output_type": "execute_result"
    }
   ],
   "source": [
    "corr = train.drop(categorical_features+['id'], axis=1).corr()\n",
    "corr.style.background_gradient(cmap='PuBuGn').format(precision=3)"
   ]
  },
  {
   "attachments": {},
   "cell_type": "markdown",
   "id": "de920c8c",
   "metadata": {
    "_cell_guid": "f8ee070c-f950-4c82-a25a-befdbebe9b95",
    "_uuid": "b932c258-d37d-4528-ab77-6a185af3d9e4",
    "papermill": {
     "duration": 0.015394,
     "end_time": "2023-06-04T08:14:13.383798",
     "exception": false,
     "start_time": "2023-06-04T08:14:13.368404",
     "status": "completed"
    },
    "tags": []
   },
   "source": [
    "# <p style=\"font-size:28px; background-color:cadetblue; text-align:center; vertical-align: middle; padding:20px 0;\">Data preparation</p>"
   ]
  },
  {
   "attachments": {},
   "cell_type": "markdown",
   "id": "d81ce272",
   "metadata": {
    "_cell_guid": "6a26482f-b7a1-4e6d-914e-e97943e115cd",
    "_uuid": "730fafc5-eb2a-4f56-9337-64ac706de456",
    "papermill": {
     "duration": 0.015286,
     "end_time": "2023-06-04T08:14:13.413794",
     "exception": false,
     "start_time": "2023-06-04T08:14:13.398508",
     "status": "completed"
    },
    "tags": []
   },
   "source": [
    "## Encoding categorical features"
   ]
  },
  {
   "cell_type": "code",
   "execution_count": 12,
   "id": "3b20378e",
   "metadata": {
    "_cell_guid": "effbd6dc-3829-4842-b56c-4c40c857a41d",
    "_uuid": "1a3ac733-5fd8-4096-9307-f13390401828",
    "collapsed": false,
    "execution": {
     "iopub.execute_input": "2023-06-04T08:14:13.446619Z",
     "iopub.status.busy": "2023-06-04T08:14:13.445682Z",
     "iopub.status.idle": "2023-06-04T08:14:13.508142Z",
     "shell.execute_reply": "2023-06-04T08:14:13.507237Z"
    },
    "jupyter": {
     "outputs_hidden": false
    },
    "papermill": {
     "duration": 0.080889,
     "end_time": "2023-06-04T08:14:13.510417",
     "exception": false,
     "start_time": "2023-06-04T08:14:13.429528",
     "status": "completed"
    },
    "tags": []
   },
   "outputs": [],
   "source": [
    "enc = OneHotEncoder() \n",
    "ohe_train = pd.DataFrame(enc.fit_transform(train[categorical_features]).toarray(), columns=enc.get_feature_names_out())\n",
    "train.drop(categorical_features, axis=1, inplace=True)\n",
    "train = pd.concat([train, ohe_train], axis=1)\n",
    "\n",
    "ohe_test = pd.DataFrame(enc.transform(test[categorical_features]).toarray(), columns=enc.get_feature_names_out())\n",
    "test.drop(categorical_features, axis=1, inplace=True)\n",
    "test = pd.concat([test, ohe_test], axis=1)\n",
    "\n",
    "features = train.columns.drop(['id', target]).to_list()"
   ]
  },
  {
   "attachments": {},
   "cell_type": "markdown",
   "id": "6f354891",
   "metadata": {
    "_cell_guid": "f5b8130c-a4d5-4c43-839b-aa74759cc3fd",
    "_uuid": "b3c6ad54-a0a1-4739-96fe-36719c03120d",
    "papermill": {
     "duration": 0.01484,
     "end_time": "2023-06-04T08:14:13.541301",
     "exception": false,
     "start_time": "2023-06-04T08:14:13.526461",
     "status": "completed"
    },
    "tags": []
   },
   "source": [
    "## Split datasets for training"
   ]
  },
  {
   "cell_type": "code",
   "execution_count": 13,
   "id": "e22c3247",
   "metadata": {
    "_cell_guid": "47879387-f320-4160-88eb-b3178ea53833",
    "_uuid": "6e55c1bd-4ba6-4c1b-9ce4-d3238ab24b1b",
    "collapsed": false,
    "execution": {
     "iopub.execute_input": "2023-06-04T08:14:13.573659Z",
     "iopub.status.busy": "2023-06-04T08:14:13.572798Z",
     "iopub.status.idle": "2023-06-04T08:14:13.591600Z",
     "shell.execute_reply": "2023-06-04T08:14:13.590749Z"
    },
    "jupyter": {
     "outputs_hidden": false
    },
    "papermill": {
     "duration": 0.037252,
     "end_time": "2023-06-04T08:14:13.593701",
     "exception": false,
     "start_time": "2023-06-04T08:14:13.556449",
     "status": "completed"
    },
    "tags": []
   },
   "outputs": [],
   "source": [
    "y_train = train[target]\n",
    "train = train[features]\n",
    "test = test[features]"
   ]
  },
  {
   "attachments": {},
   "cell_type": "markdown",
   "id": "818dc690",
   "metadata": {},
   "source": [
    "<h2 style='color:blue'>Use K Fold cross validation to measure accuracy of our model</h2>"
   ]
  },
  {
   "cell_type": "code",
   "execution_count": null,
   "id": "e6d9c6b1",
   "metadata": {},
   "outputs": [],
   "source": []
  },
  {
   "cell_type": "code",
   "execution_count": 14,
   "id": "32c142d4",
   "metadata": {},
   "outputs": [
    {
     "data": {
      "text/plain": [
       "array([0.55053208, 0.54583793, 0.55154168, 0.55385934, 0.54946329])"
      ]
     },
     "execution_count": 14,
     "metadata": {},
     "output_type": "execute_result"
    }
   ],
   "source": [
    "from sklearn.model_selection import ShuffleSplit\n",
    "from sklearn.model_selection import cross_val_score\n",
    "\n",
    "cv = ShuffleSplit(n_splits=5, test_size=0.2, random_state=0)\n",
    "\n",
    "cross_val_score(LinearRegression(), train, y_train, cv=cv)"
   ]
  },
  {
   "attachments": {},
   "cell_type": "markdown",
   "id": "93b9cf37",
   "metadata": {},
   "source": [
    "<h2 style='color:black; text-align:center; background-color:orange; padding:20px 0'> Find best model using GridSearchCV </h2>"
   ]
  },
  {
   "cell_type": "code",
   "execution_count": null,
   "id": "305adb78",
   "metadata": {},
   "outputs": [],
   "source": []
  },
  {
   "cell_type": "code",
   "execution_count": 15,
   "id": "42c59118",
   "metadata": {},
   "outputs": [],
   "source": [
    "def find_best_model_using_gridsearchcv(X,y):\n",
    "    algos = {\n",
    "        'linear_regression' : {'model': LinearRegression(),\n",
    "                               'params': {'n_jobs': [-1]}},\n",
    "\n",
    "        'lasso': {'model': Lasso(), \n",
    "                  'params': {'alpha': [1e-5, 1e-4, 1e-3], 'selection': ['random', 'cyclic']}},\n",
    "\n",
    "        'ridge': {'model': Ridge(), \n",
    "                  'params': {'alpha': [0.1,1,2]}},\n",
    "        \n",
    "        'catboost' : {}\n",
    "            }\n",
    "    \n",
    "    scores = []\n",
    "    cv = ShuffleSplit(n_splits=5, test_size=0.2, random_state=0)\n",
    "    for algo_name, config in algos.items():\n",
    "        gs =  GridSearchCV(config['model'], config['params'], cv=cv, return_train_score=False)\n",
    "        gs.fit(X,y)\n",
    "        scores.append({\n",
    "            'model': algo_name,\n",
    "            'best_score': gs.best_score_,\n",
    "            'best_params': gs.best_params_\n",
    "        })\n",
    "\n",
    "    return pd.DataFrame(scores,columns=['model','best_score','best_params'])"
   ]
  },
  {
   "cell_type": "code",
   "execution_count": 16,
   "id": "04675302",
   "metadata": {},
   "outputs": [
    {
     "name": "stderr",
     "output_type": "stream",
     "text": [
      "C:\\Users\\ys726\\AppData\\Local\\Packages\\PythonSoftwareFoundation.Python.3.10_qbz5n2kfra8p0\\LocalCache\\local-packages\\Python310\\site-packages\\sklearn\\linear_model\\_coordinate_descent.py:631: ConvergenceWarning: Objective did not converge. You might want to increase the number of iterations, check the scale of the features or consider increasing regularisation. Duality gap: 9.759e+04, tolerance: 5.970e+01\n",
      "  model = cd_fast.enet_coordinate_descent(\n",
      "C:\\Users\\ys726\\AppData\\Local\\Packages\\PythonSoftwareFoundation.Python.3.10_qbz5n2kfra8p0\\LocalCache\\local-packages\\Python310\\site-packages\\sklearn\\linear_model\\_coordinate_descent.py:631: ConvergenceWarning: Objective did not converge. You might want to increase the number of iterations, check the scale of the features or consider increasing regularisation. Duality gap: 7.087e+04, tolerance: 5.991e+01\n",
      "  model = cd_fast.enet_coordinate_descent(\n",
      "C:\\Users\\ys726\\AppData\\Local\\Packages\\PythonSoftwareFoundation.Python.3.10_qbz5n2kfra8p0\\LocalCache\\local-packages\\Python310\\site-packages\\sklearn\\linear_model\\_coordinate_descent.py:631: ConvergenceWarning: Objective did not converge. You might want to increase the number of iterations, check the scale of the features or consider increasing regularisation. Duality gap: 8.030e+04, tolerance: 5.958e+01\n",
      "  model = cd_fast.enet_coordinate_descent(\n",
      "C:\\Users\\ys726\\AppData\\Local\\Packages\\PythonSoftwareFoundation.Python.3.10_qbz5n2kfra8p0\\LocalCache\\local-packages\\Python310\\site-packages\\sklearn\\linear_model\\_coordinate_descent.py:631: ConvergenceWarning: Objective did not converge. You might want to increase the number of iterations, check the scale of the features or consider increasing regularisation. Duality gap: 3.405e+04, tolerance: 5.979e+01\n",
      "  model = cd_fast.enet_coordinate_descent(\n",
      "C:\\Users\\ys726\\AppData\\Local\\Packages\\PythonSoftwareFoundation.Python.3.10_qbz5n2kfra8p0\\LocalCache\\local-packages\\Python310\\site-packages\\sklearn\\linear_model\\_coordinate_descent.py:631: ConvergenceWarning: Objective did not converge. You might want to increase the number of iterations, check the scale of the features or consider increasing regularisation. Duality gap: 9.110e+04, tolerance: 6.006e+01\n",
      "  model = cd_fast.enet_coordinate_descent(\n",
      "C:\\Users\\ys726\\AppData\\Local\\Packages\\PythonSoftwareFoundation.Python.3.10_qbz5n2kfra8p0\\LocalCache\\local-packages\\Python310\\site-packages\\sklearn\\linear_model\\_coordinate_descent.py:631: ConvergenceWarning: Objective did not converge. You might want to increase the number of iterations, check the scale of the features or consider increasing regularisation. Duality gap: 9.261e+03, tolerance: 5.970e+01\n",
      "  model = cd_fast.enet_coordinate_descent(\n",
      "C:\\Users\\ys726\\AppData\\Local\\Packages\\PythonSoftwareFoundation.Python.3.10_qbz5n2kfra8p0\\LocalCache\\local-packages\\Python310\\site-packages\\sklearn\\linear_model\\_coordinate_descent.py:631: ConvergenceWarning: Objective did not converge. You might want to increase the number of iterations, check the scale of the features or consider increasing regularisation. Duality gap: 9.244e+03, tolerance: 5.991e+01\n",
      "  model = cd_fast.enet_coordinate_descent(\n",
      "C:\\Users\\ys726\\AppData\\Local\\Packages\\PythonSoftwareFoundation.Python.3.10_qbz5n2kfra8p0\\LocalCache\\local-packages\\Python310\\site-packages\\sklearn\\linear_model\\_coordinate_descent.py:631: ConvergenceWarning: Objective did not converge. You might want to increase the number of iterations, check the scale of the features or consider increasing regularisation. Duality gap: 9.160e+03, tolerance: 5.958e+01\n",
      "  model = cd_fast.enet_coordinate_descent(\n",
      "C:\\Users\\ys726\\AppData\\Local\\Packages\\PythonSoftwareFoundation.Python.3.10_qbz5n2kfra8p0\\LocalCache\\local-packages\\Python310\\site-packages\\sklearn\\linear_model\\_coordinate_descent.py:631: ConvergenceWarning: Objective did not converge. You might want to increase the number of iterations, check the scale of the features or consider increasing regularisation. Duality gap: 9.269e+03, tolerance: 5.979e+01\n",
      "  model = cd_fast.enet_coordinate_descent(\n",
      "C:\\Users\\ys726\\AppData\\Local\\Packages\\PythonSoftwareFoundation.Python.3.10_qbz5n2kfra8p0\\LocalCache\\local-packages\\Python310\\site-packages\\sklearn\\linear_model\\_coordinate_descent.py:631: ConvergenceWarning: Objective did not converge. You might want to increase the number of iterations, check the scale of the features or consider increasing regularisation. Duality gap: 9.310e+03, tolerance: 6.006e+01\n",
      "  model = cd_fast.enet_coordinate_descent(\n",
      "C:\\Users\\ys726\\AppData\\Local\\Packages\\PythonSoftwareFoundation.Python.3.10_qbz5n2kfra8p0\\LocalCache\\local-packages\\Python310\\site-packages\\sklearn\\linear_model\\_coordinate_descent.py:631: ConvergenceWarning: Objective did not converge. You might want to increase the number of iterations, check the scale of the features or consider increasing regularisation. Duality gap: 5.814e+03, tolerance: 5.970e+01\n",
      "  model = cd_fast.enet_coordinate_descent(\n",
      "C:\\Users\\ys726\\AppData\\Local\\Packages\\PythonSoftwareFoundation.Python.3.10_qbz5n2kfra8p0\\LocalCache\\local-packages\\Python310\\site-packages\\sklearn\\linear_model\\_coordinate_descent.py:631: ConvergenceWarning: Objective did not converge. You might want to increase the number of iterations, check the scale of the features or consider increasing regularisation. Duality gap: 1.236e+04, tolerance: 5.991e+01\n",
      "  model = cd_fast.enet_coordinate_descent(\n",
      "C:\\Users\\ys726\\AppData\\Local\\Packages\\PythonSoftwareFoundation.Python.3.10_qbz5n2kfra8p0\\LocalCache\\local-packages\\Python310\\site-packages\\sklearn\\linear_model\\_coordinate_descent.py:631: ConvergenceWarning: Objective did not converge. You might want to increase the number of iterations, check the scale of the features or consider increasing regularisation. Duality gap: 2.157e+04, tolerance: 5.958e+01\n",
      "  model = cd_fast.enet_coordinate_descent(\n",
      "C:\\Users\\ys726\\AppData\\Local\\Packages\\PythonSoftwareFoundation.Python.3.10_qbz5n2kfra8p0\\LocalCache\\local-packages\\Python310\\site-packages\\sklearn\\linear_model\\_coordinate_descent.py:631: ConvergenceWarning: Objective did not converge. You might want to increase the number of iterations, check the scale of the features or consider increasing regularisation. Duality gap: 4.412e+04, tolerance: 5.979e+01\n",
      "  model = cd_fast.enet_coordinate_descent(\n",
      "C:\\Users\\ys726\\AppData\\Local\\Packages\\PythonSoftwareFoundation.Python.3.10_qbz5n2kfra8p0\\LocalCache\\local-packages\\Python310\\site-packages\\sklearn\\linear_model\\_coordinate_descent.py:631: ConvergenceWarning: Objective did not converge. You might want to increase the number of iterations, check the scale of the features or consider increasing regularisation. Duality gap: 1.907e+02, tolerance: 6.006e+01\n",
      "  model = cd_fast.enet_coordinate_descent(\n",
      "C:\\Users\\ys726\\AppData\\Local\\Packages\\PythonSoftwareFoundation.Python.3.10_qbz5n2kfra8p0\\LocalCache\\local-packages\\Python310\\site-packages\\sklearn\\linear_model\\_coordinate_descent.py:631: ConvergenceWarning: Objective did not converge. You might want to increase the number of iterations, check the scale of the features or consider increasing regularisation. Duality gap: 1.514e+05, tolerance: 7.466e+01\n",
      "  model = cd_fast.enet_coordinate_descent(\n"
     ]
    },
    {
     "data": {
      "text/html": [
       "<div>\n",
       "<style scoped>\n",
       "    .dataframe tbody tr th:only-of-type {\n",
       "        vertical-align: middle;\n",
       "    }\n",
       "\n",
       "    .dataframe tbody tr th {\n",
       "        vertical-align: top;\n",
       "    }\n",
       "\n",
       "    .dataframe thead th {\n",
       "        text-align: right;\n",
       "    }\n",
       "</style>\n",
       "<table border=\"1\" class=\"dataframe\">\n",
       "  <thead>\n",
       "    <tr style=\"text-align: right;\">\n",
       "      <th></th>\n",
       "      <th>model</th>\n",
       "      <th>best_score</th>\n",
       "      <th>best_params</th>\n",
       "    </tr>\n",
       "  </thead>\n",
       "  <tbody>\n",
       "    <tr>\n",
       "      <th>0</th>\n",
       "      <td>linear_regression</td>\n",
       "      <td>0.550247</td>\n",
       "      <td>{'n_jobs': -1}</td>\n",
       "    </tr>\n",
       "    <tr>\n",
       "      <th>1</th>\n",
       "      <td>lasso</td>\n",
       "      <td>0.550263</td>\n",
       "      <td>{'alpha': 0.0001, 'selection': 'random'}</td>\n",
       "    </tr>\n",
       "    <tr>\n",
       "      <th>2</th>\n",
       "      <td>ridge</td>\n",
       "      <td>0.550268</td>\n",
       "      <td>{'alpha': 2}</td>\n",
       "    </tr>\n",
       "  </tbody>\n",
       "</table>\n",
       "</div>"
      ],
      "text/plain": [
       "               model  best_score                               best_params\n",
       "0  linear_regression    0.550247                            {'n_jobs': -1}\n",
       "1              lasso    0.550263  {'alpha': 0.0001, 'selection': 'random'}\n",
       "2              ridge    0.550268                              {'alpha': 2}"
      ]
     },
     "execution_count": 16,
     "metadata": {},
     "output_type": "execute_result"
    }
   ],
   "source": [
    "find_best_model_using_gridsearchcv(train,y_train)"
   ]
  },
  {
   "cell_type": "code",
   "execution_count": 17,
   "id": "f587704c",
   "metadata": {},
   "outputs": [
    {
     "name": "stdout",
     "output_type": "stream",
     "text": [
      "Score 0.5508242979514649\n",
      "Train MSE : 1.48223\n"
     ]
    }
   ],
   "source": [
    "model = Ridge(alpha=0.1)\n",
    "\n",
    "#Aplly model on train dataset\n",
    "model.fit(train, y_train)\n",
    "\n",
    "#model score on train dataset\n",
    "print(f'Score {model.score(train, y_train)}')\n",
    "\n",
    "#predicted value of train and test dataset\n",
    "validation = model.predict(train)\n",
    "\n",
    "lr_train_mse  = mean_absolute_error((y_train), (validation))\n",
    "print(\"Train MSE :\" , round(lr_train_mse,5))"
   ]
  },
  {
   "cell_type": "code",
   "execution_count": 18,
   "id": "4d7d20b2",
   "metadata": {},
   "outputs": [
    {
     "data": {
      "text/plain": [
       "array([ 7.73534097,  7.68248305, 10.43298569, ..., 12.3314911 ,\n",
       "       10.02427442, 12.6266088 ])"
      ]
     },
     "execution_count": 18,
     "metadata": {},
     "output_type": "execute_result"
    }
   ],
   "source": [
    "#Aplly model on test dataset\n",
    "y_hat_test = model.predict(test)\n",
    "y_hat_test"
   ]
  },
  {
   "attachments": {},
   "cell_type": "markdown",
   "id": "c9f97590",
   "metadata": {
    "papermill": {
     "duration": 0.016822,
     "end_time": "2023-06-04T08:14:54.321926",
     "exception": false,
     "start_time": "2023-06-04T08:14:54.305104",
     "status": "completed"
    },
    "tags": []
   },
   "source": [
    "### y_train VS ŷ_train"
   ]
  },
  {
   "cell_type": "code",
   "execution_count": 19,
   "id": "62ac6124",
   "metadata": {
    "_kg_hide-input": true,
    "execution": {
     "iopub.execute_input": "2023-06-04T08:14:54.356684Z",
     "iopub.status.busy": "2023-06-04T08:14:54.356373Z",
     "iopub.status.idle": "2023-06-04T08:14:54.736990Z",
     "shell.execute_reply": "2023-06-04T08:14:54.736091Z"
    },
    "papermill": {
     "duration": 0.400418,
     "end_time": "2023-06-04T08:14:54.739045",
     "exception": false,
     "start_time": "2023-06-04T08:14:54.338627",
     "status": "completed"
    },
    "tags": []
   },
   "outputs": [
    {
     "data": {
      "image/png": "[encoded data removed]",
      "text/plain": [
       "<Figure size 600x400 with 1 Axes>"
      ]
     },
     "metadata": {},
     "output_type": "display_data"
    }
   ],
   "source": [
    "plt.figure(figsize=(6,4))\n",
    "ax = plt.gca()\n",
    "plt.title('Target distribution')\n",
    "\n",
    "for spine in ax.spines.values():\n",
    "    spine.set_visible(False)\n",
    "\n",
    "ax.hist(x=y_train, color='cadetblue',edgecolor='darkslategray',alpha=.8, bins=y_train.nunique(), label='y_train')\n",
    "ax.hist(x=validation, color='violet',edgecolor='black',alpha=.8, bins=y_train.nunique(), label='ŷ_train')\n",
    "ax.legend()\n",
    "\n",
    "plt.show()"
   ]
  },
  {
   "attachments": {},
   "cell_type": "markdown",
   "id": "0c808b16",
   "metadata": {
    "_cell_guid": "2eec4f2e-ea5d-4ee9-9444-785cc6d263b5",
    "_uuid": "4032695c-31d1-46b6-a492-bdc95325ff0a",
    "papermill": {
     "duration": 0.017315,
     "end_time": "2023-06-04T08:14:54.774091",
     "exception": false,
     "start_time": "2023-06-04T08:14:54.756776",
     "status": "completed"
    },
    "tags": []
   },
   "source": [
    "# <p style=\"font-size:28px; background-color:cadetblue; text-align:center; vertical-align: middle; padding:20px 0;\">Submission</p>"
   ]
  },
  {
   "attachments": {},
   "cell_type": "markdown",
   "id": "23f7f62c",
   "metadata": {
    "papermill": {
     "duration": 0.016837,
     "end_time": "2023-06-04T08:14:54.807876",
     "exception": false,
     "start_time": "2023-06-04T08:14:54.791039",
     "status": "completed"
    },
    "tags": []
   },
   "source": [
    "## Serialization"
   ]
  },
  {
   "cell_type": "code",
   "execution_count": 20,
   "id": "94b8e115",
   "metadata": {
    "_cell_guid": "4742cf76-4716-4755-aa24-7f9233d1aee1",
    "_uuid": "ff7b1de9-011d-45a1-a687-cebb49b4053e",
    "collapsed": false,
    "execution": {
     "iopub.execute_input": "2023-06-04T08:14:54.844819Z",
     "iopub.status.busy": "2023-06-04T08:14:54.843152Z",
     "iopub.status.idle": "2023-06-04T08:14:55.053772Z",
     "shell.execute_reply": "2023-06-04T08:14:55.052841Z"
    },
    "jupyter": {
     "outputs_hidden": false
    },
    "papermill": {
     "duration": 0.231063,
     "end_time": "2023-06-04T08:14:55.056135",
     "exception": false,
     "start_time": "2023-06-04T08:14:54.825072",
     "status": "completed"
    },
    "tags": []
   },
   "outputs": [],
   "source": [
    "# Assuming `validation` is a NumPy array\n",
    "validation = np.round(validation).astype(int)\n",
    "\n",
    "# Create a pandas DataFrame from the vertical array\n",
    "validation_df = pd.DataFrame(validation.transpose(), columns=['Age'])\n",
    "\n",
    "# Save the DataFrame to a CSV file\n",
    "validation_df.to_csv('validation.csv', index=False)\n"
   ]
  },
  {
   "cell_type": "code",
   "execution_count": 21,
   "id": "06168ab1",
   "metadata": {
    "papermill": {
     "duration": 0.017139,
     "end_time": "2023-06-04T08:14:55.090990",
     "exception": false,
     "start_time": "2023-06-04T08:14:55.073851",
     "status": "completed"
    },
    "tags": []
   },
   "outputs": [],
   "source": [
    "submission[target] = np.round(y_hat_test).astype(int)\n",
    "submission.to_csv('yaman_submission.csv', index=False)"
   ]
  }
 ],
 "metadata": {
  "kernelspec": {
   "display_name": "Python 3",
   "language": "python",
   "name": "python3"
  },
  "language_info": {
   "codemirror_mode": {
    "name": "ipython",
    "version": 3
   },
   "file_extension": ".py",
   "mimetype": "text/x-python",
   "name": "python",
   "nbconvert_exporter": "python",
   "pygments_lexer": "ipython3",
   "version": "3.10.11"
  },
  "papermill": {
   "default_parameters": {},
   "duration": 58.165747,
   "end_time": "2023-06-04T08:14:55.929850",
   "environment_variables": {},
   "exception": null,
   "input_path": "__notebook__.ipynb",
   "output_path": "__notebook__.ipynb",
   "parameters": {},
   "start_time": "2023-06-04T08:13:57.764103",
   "version": "2.4.0"
  }
 },
 "nbformat": 4,
 "nbformat_minor": 5
}
